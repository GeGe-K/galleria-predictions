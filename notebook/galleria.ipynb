{
 "cells": [
  {
   "cell_type": "markdown",
   "metadata": {},
   "source": [
    "# Performance, Financial Prediction, and Customer Insights for Galleria Mall"
   ]
  },
  {
   "cell_type": "markdown",
   "metadata": {},
   "source": [
    "## <i>Proposal to Increase Market Share and Enhance Competitiveness<i>"
   ]
  },
  {
   "cell_type": "markdown",
   "metadata": {},
   "source": [
    "### `1. Executive Summary`\n",
    "\n",
    "This report offers a comprehensive analysis of Galleria Mall’s performance, financial predictions, customer insights, and competitor landscape. The primary objective is to highlight opportunities for growth and present strategies to help Galleria increase its market share in Nairobi’s highly competitive retail market. The report uses historical performance data, customer behavior insights, and predictive analytics based on trends from competing malls such as **Two Rivers**, **Sarit Centre**, **The Junction**, **The Hub**, **Village Market**, **Prestige Plaza**, **Waterfront**, and **Rosslyn Riviera Mall**.\n"
   ]
  },
  {
   "cell_type": "markdown",
   "metadata": {},
   "source": [
    "### `2. Data Sources`\n",
    "- **Historical Foot Traffic Data**: Galleria and competitor malls’ visitor statistics.\n",
    "- **Tenant Sales Data**: Sales insights across various retail, dining, and entertainment sectors.\n",
    "- **Market Share Data**: Market share insights for malls in Nairobi.\n",
    "- **Financial Reports**: Revenue from tenant leases, parking, and event spaces at Galleria.\n",
    "- **Customer Segmentation Data**: Profiles of typical Galleria shoppers based on their purchasing power and consumption frequency.\n",
    "- **Macroeconomic Factors**: Consumer spending trends in Nairobi and regional inflation data.\n"
   ]
  },
  {
   "cell_type": "markdown",
   "metadata": {},
   "source": [
    "### `Importations`"
   ]
  },
  {
   "cell_type": "code",
   "execution_count": 11,
   "metadata": {},
   "outputs": [
    {
     "name": "stdout",
     "output_type": "stream",
     "text": [
      "PACKAGE SUCCESS!! 🎉\n"
     ]
    }
   ],
   "source": [
    "# Import the necessary libraries\n",
    "\n",
    "# Data Manipulation\n",
    "import pandas as pd\n",
    "\n",
    "# Data Visualization\n",
    "import matplotlib.pyplot as plt\n",
    "\n",
    "# Others\n",
    "import warnings\n",
    "warnings.filterwarnings('ignore')\n",
    "\n",
    "print(\"PACKAGE SUCCESS!! 🎉\")\n"
   ]
  }
 ],
 "metadata": {
  "kernelspec": {
   "display_name": "Python 3",
   "language": "python",
   "name": "python3"
  },
  "language_info": {
   "codemirror_mode": {
    "name": "ipython",
    "version": 3
   },
   "file_extension": ".py",
   "mimetype": "text/x-python",
   "name": "python",
   "nbconvert_exporter": "python",
   "pygments_lexer": "ipython3",
   "version": "3.12.0"
  }
 },
 "nbformat": 4,
 "nbformat_minor": 2
}
